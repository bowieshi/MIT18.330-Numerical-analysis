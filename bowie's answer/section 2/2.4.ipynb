{
 "cells": [
  {
   "cell_type": "code",
   "execution_count": 81,
   "id": "493c048b-4dcc-4075-9dda-c21b2d52780e",
   "metadata": {},
   "outputs": [],
   "source": [
    "# Question 2"
   ]
  },
  {
   "cell_type": "code",
   "execution_count": 1,
   "id": "de61041a-e67b-40e1-8a1c-a07adcc4aa1d",
   "metadata": {},
   "outputs": [
    {
     "data": {
      "text/plain": [
       "3×3 Matrix{Int64}:\n",
       " 1   0  0\n",
       " 0   1  0\n",
       " 3  -1  1"
      ]
     },
     "execution_count": 1,
     "metadata": {},
     "output_type": "execute_result"
    }
   ],
   "source": [
    "T1 = [1 0 0;0 1 0; 3 -1 1]"
   ]
  },
  {
   "cell_type": "code",
   "execution_count": 2,
   "id": "d9c1f8f9-f64f-4d5a-a189-947bc0fd05e6",
   "metadata": {},
   "outputs": [
    {
     "data": {
      "text/plain": [
       "3×3 Matrix{Int64}:\n",
       "  1  0  0\n",
       "  0  1  0\n",
       " -3  1  1"
      ]
     },
     "execution_count": 2,
     "metadata": {},
     "output_type": "execute_result"
    }
   ],
   "source": [
    "T2 = [1 0 0;0 1 0; -3 1 1]"
   ]
  },
  {
   "cell_type": "code",
   "execution_count": 3,
   "id": "430405db-c208-47f7-a7e2-ea36c09974f6",
   "metadata": {},
   "outputs": [
    {
     "data": {
      "text/plain": [
       "0.6283185307179586"
      ]
     },
     "execution_count": 3,
     "metadata": {},
     "output_type": "execute_result"
    }
   ],
   "source": [
    "theta = pi/5"
   ]
  },
  {
   "cell_type": "code",
   "execution_count": 5,
   "id": "fca06244-eb50-46ca-b5d4-4514f14d83f9",
   "metadata": {},
   "outputs": [
    {
     "data": {
      "text/plain": [
       "3×3 Matrix{Float64}:\n",
       "  0.809017  0.587785  0.0\n",
       " -0.587785  0.809017  0.0\n",
       "  0.0       0.0       1.0"
      ]
     },
     "execution_count": 5,
     "metadata": {},
     "output_type": "execute_result"
    }
   ],
   "source": [
    "R = [cos(theta) sin(theta) 0; -sin(theta) cos(theta) 0; 0 0 1]"
   ]
  },
  {
   "cell_type": "code",
   "execution_count": 10,
   "id": "cc93885b-7c9c-4961-8f90-4727c60930c1",
   "metadata": {},
   "outputs": [
    {
     "data": {
      "text/plain": [
       "3-element Vector{Int64}:\n",
       " 2\n",
       " 2\n",
       " 1"
      ]
     },
     "execution_count": 10,
     "metadata": {},
     "output_type": "execute_result"
    }
   ],
   "source": [
    "z = [2, 2,1]"
   ]
  },
  {
   "cell_type": "code",
   "execution_count": 25,
   "id": "33760fe0-7f6f-4be9-8ed8-22a664d1a359",
   "metadata": {},
   "outputs": [
    {
     "data": {
      "text/plain": [
       "3×3 Matrix{Float64}:\n",
       "  0.809017   0.587785  0.0\n",
       " -0.587785   0.809017  0.0\n",
       "  0.0148362  1.95434   1.0"
      ]
     },
     "execution_count": 25,
     "metadata": {},
     "output_type": "execute_result"
    }
   ],
   "source": [
    "A = T1 * R * T2"
   ]
  },
  {
   "cell_type": "code",
   "execution_count": 29,
   "id": "7a7b1865-2c81-4b38-9737-8f7e2f518ce4",
   "metadata": {},
   "outputs": [
    {
     "data": {
      "text/plain": [
       "lufact"
      ]
     },
     "execution_count": 29,
     "metadata": {},
     "output_type": "execute_result"
    }
   ],
   "source": [
    "\"\"\"\n",
    "    lufact(A)\n",
    "\n",
    "Compute the LU factorization of square matrix `A`, returning the\n",
    "factors.\n",
    "\"\"\"\n",
    "function lufact(A)\n",
    "    n = size(A,1)\n",
    "    L = diagm(ones(n))   # ones on main diagonal, zeros elsewhere\n",
    "    U = zeros(n,n)\n",
    "    Aₖ = float(copy(A))\n",
    "\n",
    "    # Reduction by outer products\n",
    "    for k in 1:n-1\n",
    "        U[k,:] = Aₖ[k,:]\n",
    "        L[:,k] = Aₖ[:,k]/U[k,k]\n",
    "        Aₖ -= L[:,k]*U[k,:]'\n",
    "    end\n",
    "    U[n,n] = Aₖ[n,n]\n",
    "    return LowerTriangular(L),UpperTriangular(U)\n",
    "end"
   ]
  },
  {
   "cell_type": "code",
   "execution_count": 76,
   "id": "6687f6ad-de0c-4ef2-8305-56d3f010933a",
   "metadata": {},
   "outputs": [
    {
     "data": {
      "text/plain": [
       "([1.0 0.0 0.0; -0.7265425280053609 1.0 0.0; 0.01833859550599218 1.5723727512523664 1.0], [0.8090169943749475 0.5877852522924731 0.0; 0.0 1.2360679774997898 0.0; 0.0 0.0 1.0])"
      ]
     },
     "execution_count": 76,
     "metadata": {},
     "output_type": "execute_result"
    }
   ],
   "source": [
    "L, U = lufact(A)"
   ]
  },
  {
   "cell_type": "code",
   "execution_count": 20,
   "id": "d62e452a-0f1a-49d9-af24-ee25ef2d94c5",
   "metadata": {},
   "outputs": [],
   "source": [
    "using LinearAlgebra"
   ]
  },
  {
   "cell_type": "code",
   "execution_count": 46,
   "id": "0502cbef-b0a7-49b0-bb01-3cf90cae6bab",
   "metadata": {},
   "outputs": [
    {
     "data": {
      "text/plain": [
       "3×3 LowerTriangular{Float64, Matrix{Float64}}:\n",
       "  1.0         ⋅        ⋅ \n",
       " -0.726543   1.0       ⋅ \n",
       "  0.0183386  1.57237  1.0"
      ]
     },
     "execution_count": 46,
     "metadata": {},
     "output_type": "execute_result"
    }
   ],
   "source": [
    "L"
   ]
  },
  {
   "cell_type": "code",
   "execution_count": 47,
   "id": "2271a3ee-3488-4649-9ffc-87f3b52815bc",
   "metadata": {},
   "outputs": [
    {
     "data": {
      "text/plain": [
       "3×3 UpperTriangular{Float64, Matrix{Float64}}:\n",
       " 0.809017  0.587785  0.0\n",
       "  ⋅        1.23607   0.0\n",
       "  ⋅         ⋅        1.0"
      ]
     },
     "execution_count": 47,
     "metadata": {},
     "output_type": "execute_result"
    }
   ],
   "source": [
    "U"
   ]
  },
  {
   "cell_type": "code",
   "execution_count": 77,
   "id": "102f527e-cfbe-42bf-b902-50a657e8434e",
   "metadata": {},
   "outputs": [
    {
     "data": {
      "text/plain": [
       "3-element Vector{Float64}:\n",
       " 2.793604493334841\n",
       " 2.4721359549995796\n",
       " 0.9999999999999996"
      ]
     },
     "execution_count": 77,
     "metadata": {},
     "output_type": "execute_result"
    }
   ],
   "source": [
    "b = A * z\n",
    "n = 3\n",
    "for i in 1:n-1\n",
    "    for j in i+1:n\n",
    "        b[j] -= L[j,i] * b[i]\n",
    "        L[j,:] -= L[j,i] * L[i,:]\n",
    "    end\n",
    "end\n",
    "b"
   ]
  },
  {
   "cell_type": "code",
   "execution_count": 78,
   "id": "5d5567db-0903-414b-b4ee-64f440da4d55",
   "metadata": {},
   "outputs": [
    {
     "data": {
      "text/plain": [
       "3-element Vector{Float64}:\n",
       "  0.0\n",
       "  0.0\n",
       " -4.440892098500626e-16"
      ]
     },
     "execution_count": 78,
     "metadata": {},
     "output_type": "execute_result"
    }
   ],
   "source": [
    "for i in n:-1:1\n",
    "    b[i] /= U[i,i]\n",
    "    U[i,:] /= U[i,i]\n",
    "    for j in i-1:-1:1\n",
    "        b[j] -= U[j,i] * b[i]\n",
    "        U[j,:] -= U[j,i] * L[i,:]\n",
    "    end\n",
    "end\n",
    "x = b\n",
    "x - z"
   ]
  },
  {
   "cell_type": "code",
   "execution_count": 79,
   "id": "7469161b-6b61-4622-acca-1bff9fb43dbe",
   "metadata": {},
   "outputs": [
    {
     "data": {
      "text/plain": [
       "3×3 LowerTriangular{Float64, Matrix{Float64}}:\n",
       " 1.0   ⋅    ⋅ \n",
       " 0.0  1.0   ⋅ \n",
       " 0.0  0.0  1.0"
      ]
     },
     "execution_count": 79,
     "metadata": {},
     "output_type": "execute_result"
    }
   ],
   "source": [
    "L"
   ]
  },
  {
   "cell_type": "code",
   "execution_count": 80,
   "id": "b4a14fcc-3394-41ab-ae57-b4f8f1a3aa35",
   "metadata": {},
   "outputs": [
    {
     "data": {
      "text/plain": [
       "3×3 UpperTriangular{Float64, Matrix{Float64}}:\n",
       " 1.0  0.0  0.0\n",
       "  ⋅   1.0  0.0\n",
       "  ⋅    ⋅   1.0"
      ]
     },
     "execution_count": 80,
     "metadata": {},
     "output_type": "execute_result"
    }
   ],
   "source": [
    "U"
   ]
  },
  {
   "cell_type": "code",
   "execution_count": 82,
   "id": "3fd90562-ad49-4362-977f-d76016ff0a1b",
   "metadata": {},
   "outputs": [],
   "source": [
    "# Question 3"
   ]
  },
  {
   "cell_type": "code",
   "execution_count": 92,
   "id": "5e1ee029-62e4-47df-9574-1dbc20e982a4",
   "metadata": {},
   "outputs": [
    {
     "data": {
      "text/plain": [
       "5×5 Matrix{Int64}:\n",
       " 1  0  0  0  7766279631452241920\n",
       " 1  1  0  0                    0\n",
       " 0  1  1  0                    0\n",
       " 0  0  1  1                    0\n",
       " 0  0  0  1                    0"
      ]
     },
     "execution_count": 92,
     "metadata": {},
     "output_type": "execute_result"
    }
   ],
   "source": [
    "A = [1 0 0 0 10^20; 1 1 0 0 0; 0 1 1 0 0;0 0 1 1 0; 0 0 0 1 0]"
   ]
  },
  {
   "cell_type": "code",
   "execution_count": 93,
   "id": "5fb2da9d-15e1-4b45-9053-c69d41feb72d",
   "metadata": {},
   "outputs": [
    {
     "data": {
      "text/plain": [
       "5-element Vector{Float64}:\n",
       " 0.0\n",
       " 0.3333333333333333\n",
       " 0.6666666666666666\n",
       " 1.0\n",
       " 1.3333333333333333"
      ]
     },
     "execution_count": 93,
     "metadata": {},
     "output_type": "execute_result"
    }
   ],
   "source": [
    "x_hat = [0, 1/3, 2/3, 1, 4/3]"
   ]
  },
  {
   "cell_type": "code",
   "execution_count": 94,
   "id": "719d4705-2445-466a-a1a7-7ed927a1d888",
   "metadata": {},
   "outputs": [
    {
     "data": {
      "text/plain": [
       "LU_solve (generic function with 1 method)"
      ]
     },
     "execution_count": 94,
     "metadata": {},
     "output_type": "execute_result"
    }
   ],
   "source": [
    "function LU_solve(A, b)\n",
    "    n = size(A,1)\n",
    "    L, U = lufact(A)\n",
    "    for i in 1:n-1\n",
    "        for j in i+1:n\n",
    "            b[j] -= L[j,i] * b[i]\n",
    "            L[j,:] -= L[j,i] * L[i,:]\n",
    "        end\n",
    "    end\n",
    "    for i in n:-1:1\n",
    "        b[i] /= U[i,i]\n",
    "        U[i,:] /= U[i,i]\n",
    "        for j in i-1:-1:1\n",
    "            b[j] -= U[j,i] * b[i]\n",
    "            U[j,:] -= U[j,i] * L[i,:]\n",
    "        end\n",
    "    end\n",
    "    return b\n",
    "end"
   ]
  },
  {
   "cell_type": "code",
   "execution_count": 95,
   "id": "3b3d6c53-0c3e-4b1d-a0b1-54f1650f3d0e",
   "metadata": {},
   "outputs": [
    {
     "data": {
      "text/plain": [
       "5-element Vector{Float64}:\n",
       " 1.0355039508602989e19\n",
       " 0.3333333333333333\n",
       " 1.0\n",
       " 1.6666666666666665\n",
       " 1.0"
      ]
     },
     "execution_count": 95,
     "metadata": {},
     "output_type": "execute_result"
    }
   ],
   "source": [
    "b = A * x_hat"
   ]
  },
  {
   "cell_type": "code",
   "execution_count": 96,
   "id": "0f62698e-934b-44c6-baff-06468703d10e",
   "metadata": {},
   "outputs": [
    {
     "data": {
      "text/plain": [
       "5-element Vector{Float64}:\n",
       " 0.0\n",
       " 0.0\n",
       " 0.0\n",
       " 0.0\n",
       " 1.3333333333333333"
      ]
     },
     "execution_count": 96,
     "metadata": {},
     "output_type": "execute_result"
    }
   ],
   "source": [
    "x = LU_solve(A, b)"
   ]
  },
  {
   "cell_type": "code",
   "execution_count": 97,
   "id": "2fff7097-a7c8-4e5d-a731-2213600e2e6e",
   "metadata": {},
   "outputs": [],
   "source": [
    "# Question 4"
   ]
  },
  {
   "cell_type": "code",
   "execution_count": 98,
   "id": "37785584-3271-46f9-9061-59e7f71ab39d",
   "metadata": {},
   "outputs": [
    {
     "data": {
      "text/plain": [
       "6×6 Matrix{Int64}:\n",
       " 1  1  0  1  0  0\n",
       " 0  1  1  0  1  0\n",
       " 0  0  1  1  0  1\n",
       " 1  0  0  1  1  0\n",
       " 1  1  0  0  1  1\n",
       " 0  1  1  0  0  1"
      ]
     },
     "execution_count": 98,
     "metadata": {},
     "output_type": "execute_result"
    }
   ],
   "source": [
    "A = [1 1 0 1 0 0; 0 1 1 0 1 0; 0 0 1 1 0 1; 1 0 0 1 1 0; 1 1 0 0 1 1; 0 1 1 0 0 1]"
   ]
  },
  {
   "cell_type": "code",
   "execution_count": 99,
   "id": "bec377ed-e4f4-4c2a-8822-cb6b4c3c683f",
   "metadata": {},
   "outputs": [
    {
     "data": {
      "text/plain": [
       "([1.0 0.0 … 0.0 0.0; 0.0 1.0 … 0.0 0.0; … ; 1.0 0.0 … 1.0 0.0; 0.0 1.0 … 1.0 1.0], [1.0 1.0 … 0.0 0.0; 0.0 1.0 … 1.0 0.0; … ; 0.0 0.0 … -1.0 2.0; 0.0 0.0 … 0.0 -1.0])"
      ]
     },
     "execution_count": 99,
     "metadata": {},
     "output_type": "execute_result"
    }
   ],
   "source": [
    "L, U = lufact(A)"
   ]
  },
  {
   "cell_type": "code",
   "execution_count": 100,
   "id": "9bee006f-06c9-4a1d-8d94-e8a4e44030f2",
   "metadata": {},
   "outputs": [
    {
     "data": {
      "text/plain": [
       "6×6 LowerTriangular{Float64, Matrix{Float64}}:\n",
       " 1.0    ⋅    ⋅     ⋅    ⋅    ⋅ \n",
       " 0.0   1.0   ⋅     ⋅    ⋅    ⋅ \n",
       " 0.0   0.0  1.0    ⋅    ⋅    ⋅ \n",
       " 1.0  -1.0  1.0   1.0   ⋅    ⋅ \n",
       " 1.0   0.0  0.0   1.0  1.0   ⋅ \n",
       " 0.0   1.0  0.0  -0.0  1.0  1.0"
      ]
     },
     "execution_count": 100,
     "metadata": {},
     "output_type": "execute_result"
    }
   ],
   "source": [
    "L"
   ]
  },
  {
   "cell_type": "code",
   "execution_count": 101,
   "id": "56249785-b77c-410b-86c8-08e05d772dcb",
   "metadata": {},
   "outputs": [
    {
     "data": {
      "text/plain": [
       "6×6 UpperTriangular{Float64, Matrix{Float64}}:\n",
       " 1.0  1.0  0.0   1.0   0.0   0.0\n",
       "  ⋅   1.0  1.0   0.0   1.0   0.0\n",
       "  ⋅    ⋅   1.0   1.0   0.0   1.0\n",
       "  ⋅    ⋅    ⋅   -1.0   2.0  -1.0\n",
       "  ⋅    ⋅    ⋅     ⋅   -1.0   2.0\n",
       "  ⋅    ⋅    ⋅     ⋅     ⋅   -1.0"
      ]
     },
     "execution_count": 101,
     "metadata": {},
     "output_type": "execute_result"
    }
   ],
   "source": [
    "U"
   ]
  },
  {
   "cell_type": "code",
   "execution_count": 102,
   "id": "947fb876-fa25-4512-a5cb-edab81dcf78f",
   "metadata": {},
   "outputs": [
    {
     "data": {
      "text/plain": [
       "6×6 LowerTriangular{Float64, Matrix{Float64}}:\n",
       "  1.0    ⋅     ⋅     ⋅     ⋅    ⋅ \n",
       "  0.0   1.0    ⋅     ⋅     ⋅    ⋅ \n",
       "  0.0   0.0   1.0    ⋅     ⋅    ⋅ \n",
       " -1.0   1.0  -1.0   1.0    ⋅    ⋅ \n",
       "  0.0  -1.0   1.0  -1.0   1.0   ⋅ \n",
       "  0.0   0.0  -1.0   1.0  -1.0  1.0"
      ]
     },
     "execution_count": 102,
     "metadata": {},
     "output_type": "execute_result"
    }
   ],
   "source": [
    "inv(L)"
   ]
  },
  {
   "cell_type": "code",
   "execution_count": 103,
   "id": "596d05dc-0486-45dd-ab51-6c3ca76cd6b0",
   "metadata": {},
   "outputs": [
    {
     "data": {
      "text/plain": [
       "6×6 LowerTriangular{Float64, Matrix{Float64}}:\n",
       " 1.0   ⋅    ⋅    ⋅    ⋅    ⋅ \n",
       " 0.0  1.0   ⋅    ⋅    ⋅    ⋅ \n",
       " 0.0  0.0  1.0   ⋅    ⋅    ⋅ \n",
       " 0.0  0.0  0.0  1.0   ⋅    ⋅ \n",
       " 0.0  0.0  0.0  0.0  1.0   ⋅ \n",
       " 0.0  0.0  0.0  0.0  0.0  1.0"
      ]
     },
     "execution_count": 103,
     "metadata": {},
     "output_type": "execute_result"
    }
   ],
   "source": [
    "L * inv(L)"
   ]
  },
  {
   "cell_type": "code",
   "execution_count": 105,
   "id": "71663298-ddbe-422c-b391-c57e630d92d9",
   "metadata": {},
   "outputs": [
    {
     "data": {
      "text/plain": [
       "6×6 UpperTriangular{Float64, Matrix{Float64}}:\n",
       " 1.0  -1.0   1.0   2.0   3.0   5.0\n",
       "  ⋅    1.0  -1.0  -1.0  -1.0  -2.0\n",
       "  ⋅     ⋅    1.0   1.0   2.0   4.0\n",
       "  ⋅     ⋅     ⋅   -1.0  -2.0  -3.0\n",
       "  ⋅     ⋅     ⋅     ⋅   -1.0  -2.0\n",
       "  ⋅     ⋅     ⋅     ⋅     ⋅   -1.0"
      ]
     },
     "execution_count": 105,
     "metadata": {},
     "output_type": "execute_result"
    }
   ],
   "source": [
    "inv(U)"
   ]
  },
  {
   "cell_type": "code",
   "execution_count": 106,
   "id": "b53e4406-e007-45e8-9808-90a51dc21797",
   "metadata": {},
   "outputs": [],
   "source": [
    "# Question 5"
   ]
  },
  {
   "cell_type": "code",
   "execution_count": 109,
   "id": "2e3b1521-1c09-4b7a-ad89-1af25876954a",
   "metadata": {},
   "outputs": [
    {
     "data": {
      "text/plain": [
       "lufact2 (generic function with 1 method)"
      ]
     },
     "execution_count": 109,
     "metadata": {},
     "output_type": "execute_result"
    }
   ],
   "source": [
    "function lufact2(A)\n",
    "    A_T = A'\n",
    "    L, U = lufact(A_T)\n",
    "    return U', L'\n",
    "end"
   ]
  },
  {
   "cell_type": "code",
   "execution_count": 114,
   "id": "02514766-5293-4e88-a256-9631e67ecb6e",
   "metadata": {},
   "outputs": [
    {
     "data": {
      "text/plain": [
       "([1.0 0.0 … 0.0 0.0; 0.0 1.0 … 0.0 0.0; … ; 1.0 0.0 … -1.0 0.0; 0.0 1.0 … -1.0 -1.0], [1.0 1.0 … 0.0 0.0; 0.0 1.0 … 1.0 0.0; … ; 0.0 0.0 … 1.0 -2.0; 0.0 0.0 … 0.0 1.0])"
      ]
     },
     "execution_count": 114,
     "metadata": {},
     "output_type": "execute_result"
    }
   ],
   "source": [
    "L, U = lufact2(A)"
   ]
  },
  {
   "cell_type": "code",
   "execution_count": 115,
   "id": "ad8d339f-abec-426e-9476-6c2702052dda",
   "metadata": {},
   "outputs": [
    {
     "data": {
      "text/plain": [
       "6×6 LowerTriangular{Float64, Adjoint{Float64, Matrix{Float64}}}:\n",
       " 1.0    ⋅    ⋅     ⋅     ⋅     ⋅ \n",
       " 0.0   1.0   ⋅     ⋅     ⋅     ⋅ \n",
       " 0.0   0.0  1.0    ⋅     ⋅     ⋅ \n",
       " 1.0  -1.0  1.0  -1.0    ⋅     ⋅ \n",
       " 1.0   0.0  0.0  -1.0  -1.0    ⋅ \n",
       " 0.0   1.0  0.0   0.0  -1.0  -1.0"
      ]
     },
     "execution_count": 115,
     "metadata": {},
     "output_type": "execute_result"
    }
   ],
   "source": [
    "L"
   ]
  },
  {
   "cell_type": "code",
   "execution_count": 116,
   "id": "371d166c-2823-4f3e-b180-1427219b63e9",
   "metadata": {},
   "outputs": [
    {
     "data": {
      "text/plain": [
       "6×6 UpperTriangular{Float64, Adjoint{Float64, Matrix{Float64}}}:\n",
       " 1.0  1.0  0.0  1.0   0.0   0.0\n",
       "  ⋅   1.0  1.0  0.0   1.0   0.0\n",
       "  ⋅    ⋅   1.0  1.0   0.0   1.0\n",
       "  ⋅    ⋅    ⋅   1.0  -2.0   1.0\n",
       "  ⋅    ⋅    ⋅    ⋅    1.0  -2.0\n",
       "  ⋅    ⋅    ⋅    ⋅     ⋅    1.0"
      ]
     },
     "execution_count": 116,
     "metadata": {},
     "output_type": "execute_result"
    }
   ],
   "source": [
    "U"
   ]
  },
  {
   "cell_type": "code",
   "execution_count": null,
   "id": "759873f3-1b64-4868-b22f-860602793ed5",
   "metadata": {},
   "outputs": [],
   "source": []
  }
 ],
 "metadata": {
  "kernelspec": {
   "display_name": "Julia 1.10.4",
   "language": "julia",
   "name": "julia-1.10"
  },
  "language_info": {
   "file_extension": ".jl",
   "mimetype": "application/julia",
   "name": "julia",
   "version": "1.10.4"
  }
 },
 "nbformat": 4,
 "nbformat_minor": 5
}
