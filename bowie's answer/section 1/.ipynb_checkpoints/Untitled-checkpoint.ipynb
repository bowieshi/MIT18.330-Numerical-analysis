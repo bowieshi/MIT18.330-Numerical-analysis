{
 "cells": [
  {
   "cell_type": "code",
   "execution_count": null,
   "id": "10973467",
   "metadata": {},
   "outputs": [],
   "source": [
    "# section 1.2"
   ]
  },
  {
   "cell_type": "code",
   "execution_count": 1,
   "id": "53fb9adc",
   "metadata": {},
   "outputs": [
    {
     "data": {
      "text/plain": [
       "5-element Vector{Float64}:\n",
       " 0.01\n",
       " 0.0001\n",
       " 1.0e-6\n",
       " 1.0e-8\n",
       " 1.0e-10"
      ]
     },
     "execution_count": 1,
     "metadata": {},
     "output_type": "execute_result"
    }
   ],
   "source": [
    "eps = [1e-2, 1e-4, 1e-6, 1e-8, 1e-10]"
   ]
  },
  {
   "cell_type": "code",
   "execution_count": 33,
   "id": "1e6163d9",
   "metadata": {},
   "outputs": [
    {
     "name": "stdout",
     "output_type": "stream",
     "text": [
      "[0.9048750780274972, 1.1051249219725026]   0.09512492197250277   0.10512492197250256\n",
      "[0.9900498750007691, 1.010050124999231]   0.00995012499923087   0.01005012499923108\n",
      "[0.9990004998749413, 1.0010005001250588]   0.0009995001250586721   0.001000500125058812\n",
      "[0.9999000050000539, 1.000100004999946]   9.999499994606253e-5   0.00010000499994600176\n",
      "[0.999990000049586, 1.000010000050414]   9.999950413952519e-6   1.0000050413960793e-5\n"
     ]
    }
   ],
   "source": [
    "# import Pkg\n",
    "# Pkg.add(\"Roots\")\n",
    "# Pkg.add(\"Polynomials\")\n",
    "using Roots\n",
    "using Polynomials\n",
    "for e in eps\n",
    "    p = Polynomial([1, -(2+e), 1])\n",
    "    r = roots(p)\n",
    "    print(r, \"   \")\n",
    "    println(abs(r[1]-1), \"   \", abs(r[2]-1))\n",
    "end"
   ]
  },
  {
   "cell_type": "code",
   "execution_count": 34,
   "id": "d96bccad",
   "metadata": {},
   "outputs": [],
   "source": [
    "# seciton 1.4"
   ]
  },
  {
   "cell_type": "code",
   "execution_count": 35,
   "id": "50fc2b6e",
   "metadata": {},
   "outputs": [],
   "source": [
    "# 1(b)"
   ]
  },
  {
   "cell_type": "code",
   "execution_count": 36,
   "id": "f1d04412",
   "metadata": {},
   "outputs": [
    {
     "data": {
      "text/plain": [
       "f (generic function with 1 method)"
      ]
     },
     "execution_count": 36,
     "metadata": {},
     "output_type": "execute_result"
    }
   ],
   "source": [
    "f(x) = (1-cos(x))/sin(x)"
   ]
  },
  {
   "cell_type": "code",
   "execution_count": 37,
   "id": "f6c80b2f",
   "metadata": {},
   "outputs": [
    {
     "data": {
      "text/plain": [
       "5.000444502912538e-7"
      ]
     },
     "execution_count": 37,
     "metadata": {},
     "output_type": "execute_result"
    }
   ],
   "source": [
    "f(1e-6)"
   ]
  },
  {
   "cell_type": "code",
   "execution_count": 38,
   "id": "f842f57a",
   "metadata": {},
   "outputs": [
    {
     "data": {
      "text/plain": [
       "g (generic function with 1 method)"
      ]
     },
     "execution_count": 38,
     "metadata": {},
     "output_type": "execute_result"
    }
   ],
   "source": [
    "g(x)=(2*sin(x/2)^2)/sin(x)"
   ]
  },
  {
   "cell_type": "code",
   "execution_count": 39,
   "id": "c9d52100",
   "metadata": {},
   "outputs": [
    {
     "data": {
      "text/plain": [
       "5.000000000000416e-7"
      ]
     },
     "execution_count": 39,
     "metadata": {},
     "output_type": "execute_result"
    }
   ],
   "source": [
    "g(1e-6)"
   ]
  },
  {
   "cell_type": "code",
   "execution_count": 40,
   "id": "dbb0b488",
   "metadata": {},
   "outputs": [
    {
     "data": {
      "text/plain": [
       "1.0e-6"
      ]
     },
     "execution_count": 40,
     "metadata": {},
     "output_type": "execute_result"
    }
   ],
   "source": [
    "x = 1e-6"
   ]
  },
  {
   "cell_type": "code",
   "execution_count": 41,
   "id": "e0ae17ff",
   "metadata": {},
   "outputs": [
    {
     "data": {
      "text/plain": [
       "0.9999999999995"
      ]
     },
     "execution_count": 41,
     "metadata": {},
     "output_type": "execute_result"
    }
   ],
   "source": [
    "u1 = cos(x)"
   ]
  },
  {
   "cell_type": "code",
   "execution_count": 42,
   "id": "ec65ea4b",
   "metadata": {},
   "outputs": [
    {
     "data": {
      "text/plain": [
       "1.0000000000003332e-12"
      ]
     },
     "execution_count": 42,
     "metadata": {},
     "output_type": "execute_result"
    }
   ],
   "source": [
    "k1 = abs(x*tan(x))"
   ]
  },
  {
   "cell_type": "code",
   "execution_count": 43,
   "id": "681d9a88",
   "metadata": {},
   "outputs": [
    {
     "data": {
      "text/plain": [
       "5.000444502911705e-13"
      ]
     },
     "execution_count": 43,
     "metadata": {},
     "output_type": "execute_result"
    }
   ],
   "source": [
    "u2 = 1 - u1"
   ]
  },
  {
   "cell_type": "code",
   "execution_count": 44,
   "id": "0f8b2dcc",
   "metadata": {},
   "outputs": [
    {
     "data": {
      "text/plain": [
       "1.99982221463954e12"
      ]
     },
     "execution_count": 44,
     "metadata": {},
     "output_type": "execute_result"
    }
   ],
   "source": [
    "k2 = abs((-u1)/(-u1+1))"
   ]
  },
  {
   "cell_type": "code",
   "execution_count": 45,
   "id": "395a8afc",
   "metadata": {},
   "outputs": [
    {
     "data": {
      "text/plain": [
       "5.000444502912538e-7"
      ]
     },
     "execution_count": 45,
     "metadata": {},
     "output_type": "execute_result"
    }
   ],
   "source": [
    "u3 = u2/sin(x)"
   ]
  },
  {
   "cell_type": "code",
   "execution_count": 46,
   "id": "b7991a9d",
   "metadata": {},
   "outputs": [
    {
     "data": {
      "text/plain": [
       "1"
      ]
     },
     "execution_count": 46,
     "metadata": {},
     "output_type": "execute_result"
    }
   ],
   "source": [
    "k3 = 1"
   ]
  },
  {
   "cell_type": "code",
   "execution_count": 47,
   "id": "0e39cb1c",
   "metadata": {},
   "outputs": [
    {
     "data": {
      "text/plain": [
       "5.0e-7"
      ]
     },
     "execution_count": 47,
     "metadata": {},
     "output_type": "execute_result"
    }
   ],
   "source": [
    "v1 = x / 2"
   ]
  },
  {
   "cell_type": "code",
   "execution_count": 48,
   "id": "351c8743",
   "metadata": {},
   "outputs": [
    {
     "data": {
      "text/plain": [
       "1"
      ]
     },
     "execution_count": 48,
     "metadata": {},
     "output_type": "execute_result"
    }
   ],
   "source": [
    "k1 = 1"
   ]
  },
  {
   "cell_type": "code",
   "execution_count": 49,
   "id": "2db23fb1",
   "metadata": {},
   "outputs": [
    {
     "data": {
      "text/plain": [
       "4.999999999999791e-7"
      ]
     },
     "execution_count": 49,
     "metadata": {},
     "output_type": "execute_result"
    }
   ],
   "source": [
    "v2 = sin(v1)"
   ]
  },
  {
   "cell_type": "code",
   "execution_count": 50,
   "id": "b324cfff",
   "metadata": {},
   "outputs": [
    {
     "data": {
      "text/plain": [
       "0.9999999999999166"
      ]
     },
     "execution_count": 50,
     "metadata": {},
     "output_type": "execute_result"
    }
   ],
   "source": [
    "k2 = abs(v1*cot(v1))"
   ]
  },
  {
   "cell_type": "code",
   "execution_count": 51,
   "id": "91add66e",
   "metadata": {},
   "outputs": [
    {
     "data": {
      "text/plain": [
       "2.4999999999997914e-13"
      ]
     },
     "execution_count": 51,
     "metadata": {},
     "output_type": "execute_result"
    }
   ],
   "source": [
    "v3=v2^2"
   ]
  },
  {
   "cell_type": "code",
   "execution_count": 52,
   "id": "bcff3597",
   "metadata": {},
   "outputs": [
    {
     "data": {
      "text/plain": [
       "2"
      ]
     },
     "execution_count": 52,
     "metadata": {},
     "output_type": "execute_result"
    }
   ],
   "source": [
    "k3 = abs(2)"
   ]
  },
  {
   "cell_type": "code",
   "execution_count": 54,
   "id": "887d7955",
   "metadata": {},
   "outputs": [
    {
     "data": {
      "text/plain": [
       "5.000000000000416e-7"
      ]
     },
     "execution_count": 54,
     "metadata": {},
     "output_type": "execute_result"
    }
   ],
   "source": [
    "v4 = v3 / sin(x) * 2"
   ]
  },
  {
   "cell_type": "code",
   "execution_count": 55,
   "id": "028c588a",
   "metadata": {},
   "outputs": [
    {
     "data": {
      "text/plain": [
       "1"
      ]
     },
     "execution_count": 55,
     "metadata": {},
     "output_type": "execute_result"
    }
   ],
   "source": [
    "k4 = 1"
   ]
  },
  {
   "cell_type": "code",
   "execution_count": 56,
   "id": "dcf1bf0d",
   "metadata": {},
   "outputs": [],
   "source": [
    "# 2 (b)"
   ]
  },
  {
   "cell_type": "code",
   "execution_count": 57,
   "id": "f6b5b72a",
   "metadata": {},
   "outputs": [
    {
     "data": {
      "text/plain": [
       "f (generic function with 1 method)"
      ]
     },
     "execution_count": 57,
     "metadata": {},
     "output_type": "execute_result"
    }
   ],
   "source": [
    "f(x) = (exp(x)-1)/x"
   ]
  },
  {
   "cell_type": "code",
   "execution_count": 61,
   "id": "fbc6b1cb",
   "metadata": {},
   "outputs": [
    {
     "name": "stdout",
     "output_type": "stream",
     "text": [
      "1.0050167084167947\n",
      "1.0005001667083844\n",
      "1.0000500016671408\n",
      "1.0000050000069647\n",
      "1.0000004999621832\n",
      "1.0000000494336798\n",
      "0.9999999939225285\n",
      "1.0000000827403706\n",
      "1.0000000827403706\n",
      "1.0000000827403703\n"
     ]
    }
   ],
   "source": [
    "for i in 2:11\n",
    "    println(f(1e-1^i))\n",
    "end"
   ]
  },
  {
   "cell_type": "code",
   "execution_count": 66,
   "id": "662127ff",
   "metadata": {},
   "outputs": [
    {
     "name": "stdout",
     "output_type": "stream",
     "text": [
      "1.0100501670841682\n",
      "1.0010005001667084\n",
      "1.0001000050001667\n",
      "1.0000100000500003\n",
      "1.0000010000005\n",
      "1.0000001000000052\n",
      "1.00000001\n",
      "1.000000001\n",
      "1.0000000001\n",
      "1.00000000001\n"
     ]
    }
   ],
   "source": [
    "for i in 2:11\n",
    "    sum = 0\n",
    "    for j in 0:8\n",
    "        sum = sum + 1/factorial(j)*(1e-1^i)^j\n",
    "    end\n",
    "    println(sum)\n",
    "end"
   ]
  },
  {
   "cell_type": "code",
   "execution_count": 67,
   "id": "83e07cd4",
   "metadata": {},
   "outputs": [],
   "source": [
    "# second is more acurrate\n",
    "# without minus between two near real number"
   ]
  },
  {
   "cell_type": "code",
   "execution_count": 73,
   "id": "59b1ba14",
   "metadata": {},
   "outputs": [
    {
     "name": "stdout",
     "output_type": "stream",
     "text": [
      "0.25016778760042063\n",
      "0.12500002813379685\n",
      "0.08333333333962524\n",
      "0.06250000000000157\n"
     ]
    }
   ],
   "source": [
    "for i in 1:4\n",
    "    y = -4 * i\n",
    "    println((2*cosh(y))/(y*(exp(y)-exp(-y))))\n",
    "end"
   ]
  },
  {
   "cell_type": "code",
   "execution_count": 74,
   "id": "70330d7a",
   "metadata": {},
   "outputs": [
    {
     "name": "stdout",
     "output_type": "stream",
     "text": [
      "-4.000000000000046\n",
      "-8.00000000017109\n",
      "-12.000000137072186\n",
      "-15.998624871201619\n"
     ]
    }
   ],
   "source": [
    "for i in 1:4\n",
    "    y = -4 * i\n",
    "    x = cosh(y)\n",
    "    println(log(x-sqrt(x^2-1)))\n",
    "end"
   ]
  },
  {
   "cell_type": "code",
   "execution_count": 76,
   "id": "5ccad588",
   "metadata": {},
   "outputs": [
    {
     "name": "stdout",
     "output_type": "stream",
     "text": [
      "-4.0\n",
      "-8.0\n",
      "-12.0\n",
      "-16.0\n"
     ]
    }
   ],
   "source": [
    "for i in 1:4\n",
    "    y = -4 * i\n",
    "    x = cosh(y)\n",
    "    println(-2log(sqrt((x+1)/2)+sqrt((x-1)/2)))\n",
    "end"
   ]
  },
  {
   "cell_type": "code",
   "execution_count": 77,
   "id": "003acf37",
   "metadata": {},
   "outputs": [],
   "source": [
    "# question 4"
   ]
  },
  {
   "cell_type": "code",
   "execution_count": 85,
   "id": "37e2b056",
   "metadata": {},
   "outputs": [
    {
     "name": "stdout",
     "output_type": "stream",
     "text": [
      "1.0\n",
      "1.0\n",
      "3.0000000600000004e16 3.00000003e8\n",
      "0.0\n"
     ]
    }
   ],
   "source": [
    "n = 3\n",
    "x = [ 1e6, 1+1e6, 2+1e6 ]\n",
    "u = 0.0\n",
    "v = 0.0\n",
    "for xi in x\n",
    "    u = u + xi ^ 2\n",
    "    v = v + xi\n",
    "end\n",
    "s2 = 1/(n - 1) * (u - 1 / n * v^2)\n",
    "println(s2)\n",
    "\n",
    "x = [ 1e7, 1+1e7, 2+1e7 ]\n",
    "u = 0.0\n",
    "v = 0.0\n",
    "for xi in x\n",
    "    u = u + xi ^ 2\n",
    "    v = v + xi\n",
    "end\n",
    "s2 = 1/(n - 1) * (u - 1 / n * v^2)\n",
    "println(s2)\n",
    "\n",
    "x = [ 1e8, 1+1e8, 2+1e8 ]\n",
    "u = 0.0\n",
    "v = 0.0\n",
    "for xi in x\n",
    "    u = u + xi ^ 2\n",
    "    v = v + xi\n",
    "end\n",
    "println(u,\" \", v)\n",
    "s2 = 1/(n - 1) * (u - 1 / n * v^2)\n",
    "println(s2)\n"
   ]
  },
  {
   "cell_type": "code",
   "execution_count": null,
   "id": "9c01cca6",
   "metadata": {},
   "outputs": [],
   "source": []
  }
 ],
 "metadata": {
  "kernelspec": {
   "display_name": "Julia 1.10.4",
   "language": "julia",
   "name": "julia-1.10"
  },
  "language_info": {
   "file_extension": ".jl",
   "mimetype": "application/julia",
   "name": "julia",
   "version": "1.10.4"
  }
 },
 "nbformat": 4,
 "nbformat_minor": 5
}
