{
 "cells": [
  {
   "cell_type": "code",
   "execution_count": 14,
   "metadata": {},
   "outputs": [
    {
     "name": "stdout",
     "output_type": "stream",
     "text": [
      "A8 \\ m8 = [0.0011111111111111111, 0.0009722222222222222, 0.0008333333333333333, 0.0006944444444444445, 0.0005555555555555556, 0.00041666666666666653, 0.00027777777777777767, 0.00013888888888888883]\n"
     ]
    },
    {
     "data": {
      "text/plain": [
       "8-element Vector{Float64}:\n",
       " 0.0011111111111111111\n",
       " 0.0009722222222222222\n",
       " 0.0008333333333333333\n",
       " 0.0006944444444444445\n",
       " 0.0005555555555555556\n",
       " 0.00041666666666666653\n",
       " 0.00027777777777777767\n",
       " 0.00013888888888888883"
      ]
     },
     "metadata": {},
     "output_type": "display_data"
    }
   ],
   "source": [
    "function getA(n, τ)\n",
    "    A = zeros(n, n)\n",
    "    A[1, 1] = 2*n*τ\n",
    "    A[1, 2] = -n*τ\n",
    "    A[n,n] = 2*n*τ\n",
    "    A[n, n-1] = -n*τ\n",
    "    for i in 2:n-1\n",
    "        A[i, i] = 2*n*τ\n",
    "        A[i, i+1] = -n*τ\n",
    "        A[i, i-1] = -n*τ\n",
    "    end\n",
    "    return A\n",
    "end\n",
    "\n",
    "\n",
    "function getmb(n)\n",
    "    m = zeros(n)\n",
    "    for i in 1:n\n",
    "        m[i] = 1/10\n",
    "    return m \n",
    "    end \n",
    "end \n",
    "\n",
    "\n",
    "m8 = getmb(8)\n",
    "m40 = getmb(40)      \n",
    "A8 = getA(8, 10)\n",
    "A40 = getA(40, 10)\n",
    "\n",
    "@show A8\\m8\n"
   ]
  },
  {
   "cell_type": "code",
   "execution_count": null,
   "metadata": {},
   "outputs": [],
   "source": []
  }
 ],
 "metadata": {
  "kernelspec": {
   "display_name": "Julia 1.10.4",
   "language": "julia",
   "name": "julia-1.10"
  },
  "language_info": {
   "file_extension": ".jl",
   "mimetype": "application/julia",
   "name": "julia",
   "version": "1.10.4"
  }
 },
 "nbformat": 4,
 "nbformat_minor": 2
}
