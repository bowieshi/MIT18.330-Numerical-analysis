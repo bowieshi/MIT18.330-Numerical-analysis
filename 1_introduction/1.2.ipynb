{
 "cells": [
  {
   "cell_type": "code",
   "execution_count": 17,
   "metadata": {},
   "outputs": [
    {
     "name": "stdout",
     "output_type": "stream",
     "text": [
      "epsilon = 0.0001\n",
      "r1 = 0.9900498750007716\n",
      "r2 = 1.0100501249992286\n",
      "|r1-1|0.009950124999228427\n",
      "|r2-1|0.010050124999228638\n",
      "\n",
      "epsilon = 1.0e-6\n",
      "r1 = 0.9990004998749191\n",
      "r2 = 1.001000500125081\n",
      "|r1-1|0.0009995001250808766\n",
      "|r2-1|0.0010005001250810164\n",
      "\n",
      "epsilon = 1.0e-8\n",
      "r1 = 0.9999000050003038\n",
      "r2 = 1.0001000049996962\n",
      "|r1-1|9.999499969615133e-5\n",
      "|r2-1|0.00010000499969620158\n",
      "\n",
      "epsilon = 1.0e-10\n",
      "r1 = 0.9999900000495863\n",
      "r2 = 1.0000100000504137\n",
      "|r1-1|9.999950413730474e-6\n",
      "|r2-1|1.0000050413738748e-5\n",
      "\n",
      "epsilon = 1.0e-12\n",
      "r1 = 0.9999989999560508\n",
      "r2 = 1.0000010000449493\n",
      "|r1-1|1.0000439492063862e-6\n",
      "|r2-1|1.0000449492952868e-6\n",
      "\n"
     ]
    }
   ],
   "source": [
    "#1.2.7(a)\n",
    "for epsilon in [1e-4, 1e-6, 1e-8, 1e-10, 1e-12]\n",
    "    println(\"epsilon = \", epsilon)\n",
    "    delta = (2+ epsilon)^2 -4 \n",
    "    r1 = (2+epsilon - sqrt(delta))/2\n",
    "    r2 = (2 +epsilon+ sqrt(delta))/2\n",
    "    println(\"r1 = \", r1)\n",
    "    println(\"r2 = \", r2)\n",
    "    println(\"|r1-1|\", abs(r1-1))\n",
    "    println(\"|r2-1|\", abs(r2-1))\n",
    "    println()\n",
    "end\n"
   ]
  }
 ],
 "metadata": {
  "kernelspec": {
   "display_name": "Julia 1.10.4",
   "language": "julia",
   "name": "julia-1.10"
  },
  "language_info": {
   "file_extension": ".jl",
   "mimetype": "application/julia",
   "name": "julia",
   "version": "1.10.4"
  }
 },
 "nbformat": 4,
 "nbformat_minor": 2
}
