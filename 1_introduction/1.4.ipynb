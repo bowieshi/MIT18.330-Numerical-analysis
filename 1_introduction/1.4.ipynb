{
 "cells": [
  {
   "cell_type": "code",
   "execution_count": 14,
   "metadata": {},
   "outputs": [
    {
     "name": "stdout",
     "output_type": "stream",
     "text": [
      "f(x) = 5.000444502912538e-7\n",
      "g(x) = 5.000000000000416e-7\n",
      "u1 = 0.9999999999995 k1 = 1.0000000000003332e-12\n",
      "u2 = 5.000444502911705e-13 k2 = 1.99982221463954e12\n",
      "u3 = 9.999999999998333e-7 k3 = 1.0e-6\n",
      "u4 = 5.000444502912538e-7 k4 = 1.9998222146398733e18\n"
     ]
    }
   ],
   "source": [
    "#1(b)\n",
    "\n",
    "function f(x)\n",
    "    return (1-cos(x))/sin(x)\n",
    "end\n",
    "\n",
    "function g(x)\n",
    "    return 2*sin(x/2)^2/sin(x)\n",
    "end\n",
    "\n",
    "\n",
    "x = 10.0^(-6)\n",
    "\n",
    "println(\"f(x) = \", f(x))\n",
    "println(\"g(x) = \", g(x))\n",
    "\n",
    "\n",
    "\n",
    "u1 = cos(x)\n",
    "k1 = abs(x*tan(x))\n",
    "println(\"u1 = \", u1, \" k1 = \", k1)\n",
    "u2 = 1-u1\n",
    "k2 = abs(u1/(1-u1))\n",
    "println(\"u2 = \", u2, \" k2 = \", k2)\n",
    "u3 = sin(x)\n",
    "k3 = abs(x)\n",
    "println(\"u3 = \", u3, \" k3 = \", k3)\n",
    "u4 = u2/u3\n",
    "#how to calculate k4?\n",
    "println(\"u4 = \", u4, \" k4 = \", k4)\n",
    "\n"
   ]
  },
  {
   "cell_type": "code",
   "execution_count": 22,
   "metadata": {},
   "outputs": [
    {
     "name": "stdout",
     "output_type": "stream",
     "text": [
      "f1(x) = 1.0517091807564771\n",
      "f1(x) = 1.0050167084167947\n",
      "f1(x) = 1.0005001667083846\n",
      "f1(x) = 1.000050001667141\n",
      "f1(x) = 1.000005000006965\n",
      "f1(x) = 1.0000004999621837\n",
      "f1(x) = 1.0000000494336803\n",
      "f1(x) = 0.999999993922529\n",
      "f1(x) = 1.000000082740371\n",
      "f1(x) = 1.000000082740371\n",
      "f1(x) = 1.000000082740371\n"
     ]
    }
   ],
   "source": [
    "#2(b) \n",
    "function f1(x)\n",
    "    return (exp(x)-1)/x\n",
    "end\n",
    "\n",
    "for i in 1:11\n",
    "    x = 10.0^(-i)\n",
    "    println(\"f1(x) = \", f1(x))\n",
    "end\n",
    "\n",
    "# it stopped at 1.000000082740371\n"
   ]
  },
  {
   "cell_type": "code",
   "execution_count": 24,
   "metadata": {},
   "outputs": [
    {
     "name": "stdout",
     "output_type": "stream",
     "text": [
      "f2(x) = 1.0517091807564485\n",
      "f2(x) = 1.0050167084168056\n",
      "f2(x) = 1.0005001667083417\n",
      "f2(x) = 1.0000500016667084\n",
      "f2(x) = 1.0000050000166667\n",
      "f2(x) = 1.0000005000001668\n",
      "f2(x) = 1.0000000500000017\n",
      "f2(x) = 1.000000005\n",
      "f2(x) = 1.0000000005\n",
      "f2(x) = 1.00000000005\n",
      "f2(x) = 1.000000000005\n"
     ]
    }
   ],
   "source": [
    "#2(c)\n",
    "function f2(x)\n",
    "    result = 1 \n",
    "    for i in 2:8\n",
    "        result += 1/factorial(i)*x^(i-1)\n",
    "    end\n",
    "    return result\n",
    "end\n",
    "\n",
    "for i in 1:11\n",
    "    x = 10.0^(-i)\n",
    "    println(\"f2(x) = \", f2(x))\n",
    "end"
   ]
  },
  {
   "cell_type": "code",
   "execution_count": 25,
   "metadata": {},
   "outputs": [
    {
     "name": "stdout",
     "output_type": "stream",
     "text": [
      "relative difference = 2.723543215123981e-14\n",
      "relative difference = 1.0825875381182585e-14\n",
      "relative difference = 4.283318501737127e-14\n",
      "relative difference = 4.325212636097066e-13\n",
      "relative difference = 9.70174641418975e-12\n",
      "relative difference = 3.7983153172940575e-11\n",
      "relative difference = 5.663214061968672e-10\n",
      "relative difference = 1.1077471007857804e-8\n",
      "relative difference = 8.224036415312194e-8\n",
      "relative difference = 8.269036415312195e-8\n",
      "relative difference = 8.273536415312195e-8\n"
     ]
    }
   ],
   "source": [
    "#calculate the relative difference between f1 and f2\n",
    "function relative_difference(x)\n",
    "    return abs(f1(x)-f2(x))/f1(x)\n",
    "end\n",
    "\n",
    "for i in 1:11\n",
    "    x = 10.0^(-i)\n",
    "    println(\"relative difference = \", relative_difference(x))\n",
    "end\n",
    "\n",
    "#3(d) \n",
    "#(b) is better, because the steps' k is smaller than c's \n",
    "#and we can see from the results\n",
    "\n",
    "\n"
   ]
  },
  {
   "cell_type": "code",
   "execution_count": 35,
   "metadata": {},
   "outputs": [
    {
     "name": "stdout",
     "output_type": "stream",
     "text": [
      "kf(y) = 0.25016778760041775\n",
      "kf(y) = 0.12500002813112357\n",
      "kf(y) = 0.08333333238773505\n",
      "kf(y) = 0.06250537205857479\n",
      "f̃(xi) = -4.000000000000046\n",
      "relative accuracy = -1.1546319456101628e-14\n",
      "f̃(xi) = -8.00000000017109\n",
      "relative accuracy = -2.138622612335439e-11\n",
      "f̃(xi) = -12.000000137072186\n",
      "relative accuracy = -1.1422682207514375e-8\n",
      "f̃(xi) = -15.998624871201619\n",
      "relative accuracy = -8.594554989882486e-5\n",
      "\n",
      "for aaosh2\n",
      "f̃(xi) = -4.0\n",
      "relative accuracy = -0.0\n",
      "f̃(xi) = -8.0\n",
      "relative accuracy = -0.0\n",
      "f̃(xi) = -12.0\n",
      "relative accuracy = -0.0\n",
      "f̃(xi) = -16.0\n",
      "relative accuracy = -0.0\n"
     ]
    }
   ],
   "source": [
    "#3(a)\n",
    "function acosh(x)\n",
    "    return log(x-sqrt(x^2-1))\n",
    "end \n",
    "\n",
    "\n",
    "function kf(x)\n",
    "    return abs(x/sqrt(x^2-1)/log(x-sqrt(x^2-1)))\n",
    "end\n",
    "\n",
    "for i in 1:4\n",
    "    yi = -4*i\n",
    "    xi = cosh(yi)\n",
    "    println(\"kf(y) = \", kf(xi))\n",
    "end\n",
    "\n",
    "#(b)\n",
    "\n",
    "for i in 1:4\n",
    "    yi = -4*i \n",
    "    xi = cosh(yi)\n",
    "    f̃ = acosh(xi)\n",
    "    println(\"f̃(xi) = \", f̃)\n",
    "    println(\"relative accuracy = \", abs(f̃-yi)/yi)\n",
    "end \n",
    "\n",
    "\n",
    "\n",
    "\n",
    "#(c)\n",
    "function acosh2(x)\n",
    "    return -2*log(sqrt((x+1)/2)+sqrt((x-1)/2))\n",
    "end \n",
    "println(\"\")\n",
    "println(\"for aaosh2\") \n",
    "\n",
    "for i in 1:4\n",
    "    yi = -4*i\n",
    "    xi = cosh(yi)\n",
    "    f̃ = acosh2(xi)\n",
    "    println(\"f̃(xi) = \", f̃)\n",
    "    println(\"relative accuracy = \", abs(f̃-yi)/yi)\n",
    "end\n",
    "\n"
   ]
  }
 ],
 "metadata": {
  "kernelspec": {
   "display_name": "Julia 1.10.4",
   "language": "julia",
   "name": "julia-1.10"
  },
  "language_info": {
   "file_extension": ".jl",
   "mimetype": "application/julia",
   "name": "julia",
   "version": "1.10.4"
  }
 },
 "nbformat": 4,
 "nbformat_minor": 2
}
